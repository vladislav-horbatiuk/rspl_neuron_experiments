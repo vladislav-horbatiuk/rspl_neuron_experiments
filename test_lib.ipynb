{
 "cells": [
  {
   "cell_type": "code",
   "execution_count": 1,
   "id": "28e4625d",
   "metadata": {},
   "outputs": [],
   "source": [
    "import os\n",
    "import sys\n",
    "sys.path.append(os.getcwd())\n",
    "\n",
    "from lib.models.model_execution_support import run_on_inputs_with_targets\n",
    "from lib.models.model_execution_support import run_mod_with_correction_block_on_inputs_with_targets\n",
    "from lib.models.recurrent_forecaster_with_correction_block import RecurrentForecasterWithCorrectionBlock\n",
    "from lib.models.recurrent_sigmoid_piecewise_forecaster import RSPForecaster\n",
    "from lib.models.linear_forecaster import LinearForecaster\n",
    "from lib.utils.recurrent_contexts_manager import RecurrentContextsManager\n",
    "\n",
    "import numpy as np\n",
    "import pandas as pd\n",
    "import torch"
   ]
  },
  {
   "cell_type": "code",
   "execution_count": 2,
   "id": "a204ea8b",
   "metadata": {},
   "outputs": [],
   "source": [
    "DEVICE = 'cpu'\n",
    "DTYPE = torch.float32"
   ]
  },
  {
   "cell_type": "code",
   "execution_count": 3,
   "id": "2604f11b",
   "metadata": {},
   "outputs": [
    {
     "name": "stdout",
     "output_type": "stream",
     "text": [
      "62.0\n",
      "[[ 0.14598108  0.14598108  0.14204635 ...  0.4683017   0.45550151\n",
      "   0.43827048]\n",
      " [ 0.28219521  0.28219521  0.27689336 ...  0.40076932  0.38879281\n",
      "   0.38256881]\n",
      " [-0.30440775 -0.30440775 -0.30484894 ... -0.36155229 -0.35393276\n",
      "  -0.34546305]\n",
      " [-0.32704289 -0.32704289 -0.32704289 ... -0.29516359 -0.26901976\n",
      "  -0.2757001 ]]\n",
      "(4, 891)\n"
     ]
    }
   ],
   "source": [
    "INP_SIZE = 2\n",
    "\n",
    "def sw(t: torch.Tensor) -> torch.Tensor:\n",
    "    return t.unfold(dimension=1, size=INP_SIZE, step=1)\n",
    "\n",
    "\n",
    "def get_train_test_data_heart_rate(heart_data, train_ratio=0.9):\n",
    "    N = heart_data.shape[1]\n",
    "    train_size = int(N * train_ratio)\n",
    "    test_size = N - train_size\n",
    "    train_ts = heart_data[:, :train_size]\n",
    "    test_ts = heart_data[:, train_size:]\n",
    "    return (\n",
    "        sw(torch.from_numpy(train_ts[:, :-1])).permute(1, 0, 2).to(DEVICE, dtype=DTYPE),\n",
    "        torch.from_numpy(train_ts[:, INP_SIZE:]).permute(1, 0).unsqueeze(-1).to(DEVICE, dtype=DTYPE),\n",
    "        sw(torch.from_numpy(test_ts[:, :-1])).permute(1, 0, 2).to(DEVICE, dtype=DTYPE),\n",
    "        torch.from_numpy(test_ts[:, INP_SIZE:]).permute(1, 0).unsqueeze(-1).to(DEVICE, dtype=DTYPE),\n",
    "    )\n",
    "\n",
    "df = pd.read_csv('heart_rate.csv')\n",
    "print(df['T4'][890])\n",
    "heart_data = np.array(df[:891]).transpose(1, 0)\n",
    "heart_data = heart_data / (heart_data.max() - heart_data.min())\n",
    "heart_data = heart_data - heart_data.mean()\n",
    "print(heart_data)\n",
    "print(heart_data.shape)"
   ]
  },
  {
   "cell_type": "code",
   "execution_count": 4,
   "id": "16af5552",
   "metadata": {},
   "outputs": [
    {
     "name": "stdout",
     "output_type": "stream",
     "text": [
      "torch.Size([9, 1])\n",
      "tensor([[-0.0917],\n",
      "        [ 0.1167],\n",
      "        [ 0.2316],\n",
      "        [ 0.7351],\n",
      "        [-0.5787],\n",
      "        [ 0.6034],\n",
      "        [-0.2639],\n",
      "        [ 1.0282],\n",
      "        [ 0.9168]], grad_fn=<AddmmBackward0>)\n",
      "torch.Size([1, 4])\n"
     ]
    }
   ],
   "source": [
    "inp_len_test = 4\n",
    "num_sequences_test = 9\n",
    "\n",
    "cm = RecurrentContextsManager()\n",
    "pred = LinearForecaster(cm, inp_len_test)\n",
    "inp_test = torch.randn(num_sequences_test, inp_len_test, device=DEVICE, dtype=DTYPE)\n",
    "out_test = pred(inp_test)\n",
    "\n",
    "print(out_test.shape)\n",
    "print(out_test)\n",
    "print(pred.predictor.weight.shape)"
   ]
  },
  {
   "cell_type": "code",
   "execution_count": null,
   "id": "ffb63eed",
   "metadata": {},
   "outputs": [
    {
     "name": "stdout",
     "output_type": "stream",
     "text": [
      "139853414737216\n",
      "tensor([[0., 0., 0., 0., 0., 0., 0., 0.],\n",
      "        [0., 0., 0., 0., 0., 0., 0., 0.],\n",
      "        [0., 0., 0., 0., 0., 0., 0., 0.],\n",
      "        [0., 0., 0., 0., 0., 0., 0., 0.],\n",
      "        [0., 0., 0., 0., 0., 0., 0., 0.],\n",
      "        [0., 0., 0., 0., 0., 0., 0., 0.],\n",
      "        [0., 0., 0., 0., 0., 0., 0., 0.],\n",
      "        [0., 0., 0., 0., 0., 0., 0., 0.],\n",
      "        [0., 0., 0., 0., 0., 0., 0., 0.]])\n",
      "torch.Size([9, 8])\n",
      "> \u001b[0;32m/home/ivan/my_projects/nau_forecasting/lib/models/recurrent_sigmoid_piecewise_forecaster.py\u001b[0m(42)\u001b[0;36m_forward\u001b[0;34m()\u001b[0m\n",
      "\u001b[0;32m     40 \u001b[0;31m        \u001b[0mout\u001b[0m \u001b[0;34m=\u001b[0m \u001b[0mnew_ctx\u001b[0m\u001b[0;34m\u001b[0m\u001b[0;34m\u001b[0m\u001b[0m\n",
      "\u001b[0m\u001b[0;32m     41 \u001b[0;31m        \u001b[0;32mimport\u001b[0m \u001b[0mpdb\u001b[0m\u001b[0;34m;\u001b[0m \u001b[0mpdb\u001b[0m\u001b[0;34m.\u001b[0m\u001b[0mset_trace\u001b[0m\u001b[0;34m(\u001b[0m\u001b[0;34m)\u001b[0m\u001b[0;34m\u001b[0m\u001b[0;34m\u001b[0m\u001b[0m\n",
      "\u001b[0m\u001b[0;32m---> 42 \u001b[0;31m        \u001b[0;32mif\u001b[0m \u001b[0mself\u001b[0m\u001b[0;34m.\u001b[0m\u001b[0mnormalize_ctx\u001b[0m\u001b[0;34m:\u001b[0m\u001b[0;34m\u001b[0m\u001b[0;34m\u001b[0m\u001b[0m\n",
      "\u001b[0m\u001b[0;32m     43 \u001b[0;31m            \u001b[0mout\u001b[0m \u001b[0;34m=\u001b[0m \u001b[0mF\u001b[0m\u001b[0;34m.\u001b[0m\u001b[0mnormalize\u001b[0m\u001b[0;34m(\u001b[0m\u001b[0mout\u001b[0m\u001b[0;34m,\u001b[0m \u001b[0mdim\u001b[0m\u001b[0;34m=\u001b[0m\u001b[0;34m-\u001b[0m\u001b[0;36m1\u001b[0m\u001b[0;34m)\u001b[0m\u001b[0;34m\u001b[0m\u001b[0;34m\u001b[0m\u001b[0m\n",
      "\u001b[0m\u001b[0;32m     44 \u001b[0;31m        \u001b[0;32mif\u001b[0m \u001b[0mself\u001b[0m\u001b[0;34m.\u001b[0m\u001b[0muse_out_linear\u001b[0m\u001b[0;34m:\u001b[0m\u001b[0;34m\u001b[0m\u001b[0;34m\u001b[0m\u001b[0m\n",
      "\u001b[0m\n",
      "ipdb> list\n",
      "\u001b[1;32m     37 \u001b[0m        \u001b[0mz\u001b[0m \u001b[0;34m=\u001b[0m \u001b[0mtorch\u001b[0m\u001b[0;34m.\u001b[0m\u001b[0msigmoid\u001b[0m\u001b[0;34m(\u001b[0m\u001b[0mself\u001b[0m\u001b[0;34m.\u001b[0m\u001b[0msigm_lin\u001b[0m\u001b[0;34m(\u001b[0m\u001b[0minp\u001b[0m\u001b[0;34m)\u001b[0m\u001b[0;34m)\u001b[0m\u001b[0;34m\u001b[0m\u001b[0;34m\u001b[0m\u001b[0m\n",
      "\u001b[1;32m     38 \u001b[0m        \u001b[0mctx_cand\u001b[0m \u001b[0;34m=\u001b[0m \u001b[0mself\u001b[0m\u001b[0;34m.\u001b[0m\u001b[0mw_ctx_cand_lin\u001b[0m\u001b[0;34m(\u001b[0m\u001b[0minp\u001b[0m\u001b[0;34m)\u001b[0m\u001b[0;34m\u001b[0m\u001b[0;34m\u001b[0m\u001b[0m\n",
      "\u001b[1;32m     39 \u001b[0m        \u001b[0mnew_ctx\u001b[0m \u001b[0;34m=\u001b[0m \u001b[0;34m(\u001b[0m\u001b[0;36m1\u001b[0m \u001b[0;34m-\u001b[0m \u001b[0mz\u001b[0m\u001b[0;34m)\u001b[0m \u001b[0;34m*\u001b[0m \u001b[0mctx\u001b[0m \u001b[0;34m+\u001b[0m \u001b[0mz\u001b[0m \u001b[0;34m*\u001b[0m \u001b[0mctx_cand\u001b[0m\u001b[0;34m\u001b[0m\u001b[0;34m\u001b[0m\u001b[0m\n",
      "\u001b[1;32m     40 \u001b[0m        \u001b[0mout\u001b[0m \u001b[0;34m=\u001b[0m \u001b[0mnew_ctx\u001b[0m\u001b[0;34m\u001b[0m\u001b[0;34m\u001b[0m\u001b[0m\n",
      "\u001b[1;32m     41 \u001b[0m        \u001b[0;32mimport\u001b[0m \u001b[0mpdb\u001b[0m\u001b[0;34m;\u001b[0m \u001b[0mpdb\u001b[0m\u001b[0;34m.\u001b[0m\u001b[0mset_trace\u001b[0m\u001b[0;34m(\u001b[0m\u001b[0;34m)\u001b[0m\u001b[0;34m\u001b[0m\u001b[0;34m\u001b[0m\u001b[0m\n",
      "\u001b[0;32m---> 42 \u001b[0;31m        \u001b[0;32mif\u001b[0m \u001b[0mself\u001b[0m\u001b[0;34m.\u001b[0m\u001b[0mnormalize_ctx\u001b[0m\u001b[0;34m:\u001b[0m\u001b[0;34m\u001b[0m\u001b[0;34m\u001b[0m\u001b[0m\n",
      "\u001b[0m\u001b[1;32m     43 \u001b[0m            \u001b[0mout\u001b[0m \u001b[0;34m=\u001b[0m \u001b[0mF\u001b[0m\u001b[0;34m.\u001b[0m\u001b[0mnormalize\u001b[0m\u001b[0;34m(\u001b[0m\u001b[0mout\u001b[0m\u001b[0;34m,\u001b[0m \u001b[0mdim\u001b[0m\u001b[0;34m=\u001b[0m\u001b[0;34m-\u001b[0m\u001b[0;36m1\u001b[0m\u001b[0;34m)\u001b[0m\u001b[0;34m\u001b[0m\u001b[0;34m\u001b[0m\u001b[0m\n",
      "\u001b[1;32m     44 \u001b[0m        \u001b[0;32mif\u001b[0m \u001b[0mself\u001b[0m\u001b[0;34m.\u001b[0m\u001b[0muse_out_linear\u001b[0m\u001b[0;34m:\u001b[0m\u001b[0;34m\u001b[0m\u001b[0;34m\u001b[0m\u001b[0m\n",
      "\u001b[1;32m     45 \u001b[0m            \u001b[0mout\u001b[0m \u001b[0;34m=\u001b[0m \u001b[0mself\u001b[0m\u001b[0;34m.\u001b[0m\u001b[0mout_linear\u001b[0m\u001b[0;34m(\u001b[0m\u001b[0mtorch\u001b[0m\u001b[0;34m.\u001b[0m\u001b[0mcat\u001b[0m\u001b[0;34m(\u001b[0m\u001b[0;34m(\u001b[0m\u001b[0morig_inp\u001b[0m\u001b[0;34m,\u001b[0m \u001b[0mnew_ctx\u001b[0m\u001b[0;34m)\u001b[0m\u001b[0;34m,\u001b[0m \u001b[0mdim\u001b[0m\u001b[0;34m=\u001b[0m\u001b[0;34m-\u001b[0m\u001b[0;36m1\u001b[0m\u001b[0;34m)\u001b[0m\u001b[0;34m)\u001b[0m\u001b[0;34m\u001b[0m\u001b[0;34m\u001b[0m\u001b[0m\n",
      "\u001b[1;32m     46 \u001b[0m        \u001b[0;32mreturn\u001b[0m \u001b[0mout\u001b[0m\u001b[0;34m,\u001b[0m \u001b[0mnew_ctx\u001b[0m\u001b[0;34m\u001b[0m\u001b[0;34m\u001b[0m\u001b[0m\n",
      "\u001b[1;32m     47 \u001b[0m\u001b[0;34m\u001b[0m\u001b[0m\n",
      "\n",
      "ipdb> print(inp.shape)\n",
      "torch.Size([9, 12])\n",
      "ipdb> print(out.shape)\n",
      "torch.Size([9, 8])\n",
      "ipdb> print(out[0])\n",
      "tensor([-0.1743, -0.2080, -0.0754,  0.2623,  0.2427, -0.0472, -0.1332, -0.1320],\n",
      "       grad_fn=<SelectBackward0>)\n",
      "ipdb> print(F.norm(out[0]))\n",
      "*** AttributeError: module 'torch.nn.functional' has no attribute 'norm'\n",
      "ipdb> torch.norm(out[0])\n",
      "tensor(0.4944, grad_fn=<LinalgVectorNormBackward0>)\n",
      "ipdb> n\n",
      "> \u001b[0;32m/home/ivan/my_projects/nau_forecasting/lib/models/recurrent_sigmoid_piecewise_forecaster.py\u001b[0m(43)\u001b[0;36m_forward\u001b[0;34m()\u001b[0m\n",
      "\u001b[0;32m     41 \u001b[0;31m        \u001b[0;32mimport\u001b[0m \u001b[0mpdb\u001b[0m\u001b[0;34m;\u001b[0m \u001b[0mpdb\u001b[0m\u001b[0;34m.\u001b[0m\u001b[0mset_trace\u001b[0m\u001b[0;34m(\u001b[0m\u001b[0;34m)\u001b[0m\u001b[0;34m\u001b[0m\u001b[0;34m\u001b[0m\u001b[0m\n",
      "\u001b[0m\u001b[0;32m     42 \u001b[0;31m        \u001b[0;32mif\u001b[0m \u001b[0mself\u001b[0m\u001b[0;34m.\u001b[0m\u001b[0mnormalize_ctx\u001b[0m\u001b[0;34m:\u001b[0m\u001b[0;34m\u001b[0m\u001b[0;34m\u001b[0m\u001b[0m\n",
      "\u001b[0m\u001b[0;32m---> 43 \u001b[0;31m            \u001b[0mout\u001b[0m \u001b[0;34m=\u001b[0m \u001b[0mF\u001b[0m\u001b[0;34m.\u001b[0m\u001b[0mnormalize\u001b[0m\u001b[0;34m(\u001b[0m\u001b[0mout\u001b[0m\u001b[0;34m,\u001b[0m \u001b[0mdim\u001b[0m\u001b[0;34m=\u001b[0m\u001b[0;34m-\u001b[0m\u001b[0;36m1\u001b[0m\u001b[0;34m)\u001b[0m\u001b[0;34m\u001b[0m\u001b[0;34m\u001b[0m\u001b[0m\n",
      "\u001b[0m\u001b[0;32m     44 \u001b[0;31m        \u001b[0;32mif\u001b[0m \u001b[0mself\u001b[0m\u001b[0;34m.\u001b[0m\u001b[0muse_out_linear\u001b[0m\u001b[0;34m:\u001b[0m\u001b[0;34m\u001b[0m\u001b[0;34m\u001b[0m\u001b[0m\n",
      "\u001b[0m\u001b[0;32m     45 \u001b[0;31m            \u001b[0mout\u001b[0m \u001b[0;34m=\u001b[0m \u001b[0mself\u001b[0m\u001b[0;34m.\u001b[0m\u001b[0mout_linear\u001b[0m\u001b[0;34m(\u001b[0m\u001b[0mtorch\u001b[0m\u001b[0;34m.\u001b[0m\u001b[0mcat\u001b[0m\u001b[0;34m(\u001b[0m\u001b[0;34m(\u001b[0m\u001b[0morig_inp\u001b[0m\u001b[0;34m,\u001b[0m \u001b[0mnew_ctx\u001b[0m\u001b[0;34m)\u001b[0m\u001b[0;34m,\u001b[0m \u001b[0mdim\u001b[0m\u001b[0;34m=\u001b[0m\u001b[0;34m-\u001b[0m\u001b[0;36m1\u001b[0m\u001b[0;34m)\u001b[0m\u001b[0;34m)\u001b[0m\u001b[0;34m\u001b[0m\u001b[0;34m\u001b[0m\u001b[0m\n",
      "\u001b[0m\n",
      "ipdb> n\n",
      "> \u001b[0;32m/home/ivan/my_projects/nau_forecasting/lib/models/recurrent_sigmoid_piecewise_forecaster.py\u001b[0m(44)\u001b[0;36m_forward\u001b[0;34m()\u001b[0m\n",
      "\u001b[0;32m     42 \u001b[0;31m        \u001b[0;32mif\u001b[0m \u001b[0mself\u001b[0m\u001b[0;34m.\u001b[0m\u001b[0mnormalize_ctx\u001b[0m\u001b[0;34m:\u001b[0m\u001b[0;34m\u001b[0m\u001b[0;34m\u001b[0m\u001b[0m\n",
      "\u001b[0m\u001b[0;32m     43 \u001b[0;31m            \u001b[0mout\u001b[0m \u001b[0;34m=\u001b[0m \u001b[0mF\u001b[0m\u001b[0;34m.\u001b[0m\u001b[0mnormalize\u001b[0m\u001b[0;34m(\u001b[0m\u001b[0mout\u001b[0m\u001b[0;34m,\u001b[0m \u001b[0mdim\u001b[0m\u001b[0;34m=\u001b[0m\u001b[0;34m-\u001b[0m\u001b[0;36m1\u001b[0m\u001b[0;34m)\u001b[0m\u001b[0;34m\u001b[0m\u001b[0;34m\u001b[0m\u001b[0m\n",
      "\u001b[0m\u001b[0;32m---> 44 \u001b[0;31m        \u001b[0;32mif\u001b[0m \u001b[0mself\u001b[0m\u001b[0;34m.\u001b[0m\u001b[0muse_out_linear\u001b[0m\u001b[0;34m:\u001b[0m\u001b[0;34m\u001b[0m\u001b[0;34m\u001b[0m\u001b[0m\n",
      "\u001b[0m\u001b[0;32m     45 \u001b[0;31m            \u001b[0mout\u001b[0m \u001b[0;34m=\u001b[0m \u001b[0mself\u001b[0m\u001b[0;34m.\u001b[0m\u001b[0mout_linear\u001b[0m\u001b[0;34m(\u001b[0m\u001b[0mtorch\u001b[0m\u001b[0;34m.\u001b[0m\u001b[0mcat\u001b[0m\u001b[0;34m(\u001b[0m\u001b[0;34m(\u001b[0m\u001b[0morig_inp\u001b[0m\u001b[0;34m,\u001b[0m \u001b[0mnew_ctx\u001b[0m\u001b[0;34m)\u001b[0m\u001b[0;34m,\u001b[0m \u001b[0mdim\u001b[0m\u001b[0;34m=\u001b[0m\u001b[0;34m-\u001b[0m\u001b[0;36m1\u001b[0m\u001b[0;34m)\u001b[0m\u001b[0;34m)\u001b[0m\u001b[0;34m\u001b[0m\u001b[0;34m\u001b[0m\u001b[0m\n",
      "\u001b[0m\u001b[0;32m     46 \u001b[0;31m        \u001b[0;32mreturn\u001b[0m \u001b[0mout\u001b[0m\u001b[0;34m,\u001b[0m \u001b[0mnew_ctx\u001b[0m\u001b[0;34m\u001b[0m\u001b[0;34m\u001b[0m\u001b[0m\n",
      "\u001b[0m\n",
      "ipdb> print(out[0])\n",
      "tensor([-0.3526, -0.4207, -0.1524,  0.5306,  0.4910, -0.0954, -0.2693, -0.2670],\n",
      "       grad_fn=<SelectBackward0>)\n",
      "ipdb> print(torch.norm(out[0]))\n",
      "tensor(1.0000, grad_fn=<LinalgVectorNormBackward0>)\n",
      "ipdb> print(torch.norm(out, dim=1))\n",
      "tensor([1.0000, 1.0000, 1.0000, 1.0000, 1.0000, 1.0000, 1.0000, 1.0000, 1.0000],\n",
      "       grad_fn=<LinalgVectorNormBackward0>)\n",
      "--KeyboardInterrupt--\n",
      "\n",
      "KeyboardInterrupt: Interrupted by user\n",
      "139853414737616\n",
      "tensor([[-0.1743, -0.2080, -0.0754,  0.2623,  0.2427, -0.0472, -0.1332, -0.1320],\n",
      "        [ 0.0477,  0.0429,  0.1630, -0.0846,  0.3378,  0.2259,  0.2817, -0.3104],\n",
      "        [-0.0979, -0.2233,  0.0045,  0.0283, -0.0303, -0.1624, -0.0354,  0.0031],\n",
      "        [-0.1878,  0.0299,  0.2261,  0.2207, -0.0636,  0.0788,  0.0881, -0.1580],\n",
      "        [-0.1310, -0.0656, -0.1137,  0.3210,  0.7155, -0.1646, -0.0038, -0.1711],\n",
      "        [ 0.0063,  0.1159,  0.3455, -0.1045,  0.1117,  0.3327,  0.3608, -0.3666],\n",
      "        [-0.1024, -0.2499, -0.1195,  0.1226,  0.2207, -0.1342, -0.1216, -0.0667],\n",
      "        [-0.0910,  0.0965,  0.3619, -0.0338, -0.1891,  0.1663,  0.3031, -0.1462],\n",
      "        [-0.1544,  0.1627,  0.3886,  0.1489, -0.0993,  0.1124,  0.3258, -0.1897]],\n",
      "       grad_fn=<AddBackward0>)\n",
      "> \u001b[0;32m/home/ivan/my_projects/nau_forecasting/lib/models/recurrent_sigmoid_piecewise_forecaster.py\u001b[0m(42)\u001b[0;36m_forward\u001b[0;34m()\u001b[0m\n",
      "\u001b[0;32m     40 \u001b[0;31m        \u001b[0mout\u001b[0m \u001b[0;34m=\u001b[0m \u001b[0mnew_ctx\u001b[0m\u001b[0;34m\u001b[0m\u001b[0;34m\u001b[0m\u001b[0m\n",
      "\u001b[0m\u001b[0;32m     41 \u001b[0;31m        \u001b[0;31m# import pdb; pdb.set_trace()\u001b[0m\u001b[0;34m\u001b[0m\u001b[0;34m\u001b[0m\u001b[0;34m\u001b[0m\u001b[0m\n",
      "\u001b[0m\u001b[0;32m---> 42 \u001b[0;31m        \u001b[0;32mif\u001b[0m \u001b[0mself\u001b[0m\u001b[0;34m.\u001b[0m\u001b[0mnormalize_ctx\u001b[0m\u001b[0;34m:\u001b[0m\u001b[0;34m\u001b[0m\u001b[0;34m\u001b[0m\u001b[0m\n",
      "\u001b[0m\u001b[0;32m     43 \u001b[0;31m            \u001b[0mout\u001b[0m \u001b[0;34m=\u001b[0m \u001b[0mF\u001b[0m\u001b[0;34m.\u001b[0m\u001b[0mnormalize\u001b[0m\u001b[0;34m(\u001b[0m\u001b[0mout\u001b[0m\u001b[0;34m,\u001b[0m \u001b[0mdim\u001b[0m\u001b[0;34m=\u001b[0m\u001b[0;34m-\u001b[0m\u001b[0;36m1\u001b[0m\u001b[0;34m)\u001b[0m\u001b[0;34m\u001b[0m\u001b[0;34m\u001b[0m\u001b[0m\n",
      "\u001b[0m\u001b[0;32m     44 \u001b[0;31m        \u001b[0;32mif\u001b[0m \u001b[0mself\u001b[0m\u001b[0;34m.\u001b[0m\u001b[0muse_out_linear\u001b[0m\u001b[0;34m:\u001b[0m\u001b[0;34m\u001b[0m\u001b[0;34m\u001b[0m\u001b[0m\n",
      "\u001b[0m\n"
     ]
    }
   ],
   "source": [
    "inp_len_test = 4\n",
    "hidden_size_test = 8\n",
    "num_sequences_test = 9\n",
    "\n",
    "cm = RecurrentContextsManager()\n",
    "pred = RSPForecaster(cm, inp_len_test, hidden_size_test, normalize_ctx=True)\n",
    "pred.init_context(num_sequences_test, device=DEVICE)\n",
    "print(id(cm.get_ctx(pred.cid)))\n",
    "print(cm.get_ctx(pred.cid))\n",
    "print(cm.get_ctx(pred.cid).shape)\n",
    "inp1_test = torch.randn(num_sequences_test, inp_len_test, device=DEVICE, dtype=DTYPE)\n",
    "prev_errors1_test = torch.randn(num_sequences_test, 1, device=DEVICE, dtype=DTYPE) * 0.1\n",
    "out1_test = pred(inp_test)\n",
    "print(id(cm.get_ctx(pred.cid)))\n",
    "print(cm.get_ctx(pred.cid))\n",
    "gt1_test = out_test + torch.randn(num_sequences_test, 1, device=DEVICE, dtype=DTYPE) * 0.1\n",
    "inp2_test = torch.randn(num_sequences_test, inp_len_test, device=DEVICE, dtype=DTYPE)\n",
    "out2_test = pred(inp2_test)\n",
    "print(id(cm.get_ctx(pred.cid)))\n",
    "print(cm.get_ctx(pred.cid))\n",
    "\n",
    "\n",
    "print(out1_test.shape)\n",
    "print(out1_test)\n",
    "print(out2_test.shape)\n",
    "print(pred.sigm_lin.weight.shape)"
   ]
  },
  {
   "cell_type": "code",
   "execution_count": 6,
   "id": "911e7799",
   "metadata": {},
   "outputs": [
    {
     "name": "stdout",
     "output_type": "stream",
     "text": [
      "torch.Size([799, 4, 2])\n",
      "torch.Size([799, 4, 1])\n",
      "torch.Size([88, 4, 2])\n",
      "torch.Size([88, 4, 1])\n",
      "torch.Size([799, 4, 1])\n",
      "torch.Size([88, 4, 1])\n"
     ]
    }
   ],
   "source": [
    "train_inp, train_targ, test_inp, test_targ = get_train_test_data_heart_rate(heart_data)\n",
    "print(train_inp.shape)\n",
    "print(train_targ.shape)\n",
    "print(test_inp.shape)\n",
    "print(test_targ.shape)\n",
    "\n",
    "HIDDEN_SIZE = 8\n",
    "cm = RecurrentContextsManager()\n",
    "pred = RSPForecaster(cm, INP_SIZE, HIDDEN_SIZE)\n",
    "outs_train = run_on_inputs_with_targets(pred, train_inp, train_targ)\n",
    "print(outs_train.shape)\n",
    "outs_test = run_on_inputs_with_targets(pred, test_inp, test_targ)\n",
    "print(outs_test.shape)"
   ]
  },
  {
   "cell_type": "code",
   "execution_count": 7,
   "id": "af02c5d6",
   "metadata": {},
   "outputs": [
    {
     "name": "stdout",
     "output_type": "stream",
     "text": [
      "torch.Size([799, 4, 1])\n",
      "torch.Size([88, 4, 1])\n"
     ]
    }
   ],
   "source": [
    "cm = RecurrentContextsManager()\n",
    "baseline = LinearForecaster(cm, INP_SIZE)\n",
    "# INP_SIZE + 3 because correction block also takes baseline\n",
    "# forecast, previous baseline error and previous actual\n",
    "# error as extra inputs\n",
    "corrector = RSPForecaster(cm, INP_SIZE + 3, HIDDEN_SIZE)\n",
    "pred = RecurrentForecasterWithCorrectionBlock(cm, baseline, corrector)\n",
    "outs_train = run_mod_with_correction_block_on_inputs_with_targets(pred, train_inp, train_targ)\n",
    "print(outs_train.shape)\n",
    "outs_test = run_mod_with_correction_block_on_inputs_with_targets(pred, test_inp, test_targ)\n",
    "print(outs_test.shape)"
   ]
  },
  {
   "cell_type": "code",
   "execution_count": null,
   "id": "f8675fdb",
   "metadata": {},
   "outputs": [],
   "source": []
  }
 ],
 "metadata": {
  "kernelspec": {
   "display_name": "Python 3 (ipykernel)",
   "language": "python",
   "name": "python3"
  },
  "language_info": {
   "codemirror_mode": {
    "name": "ipython",
    "version": 3
   },
   "file_extension": ".py",
   "mimetype": "text/x-python",
   "name": "python",
   "nbconvert_exporter": "python",
   "pygments_lexer": "ipython3",
   "version": "3.8.16"
  }
 },
 "nbformat": 4,
 "nbformat_minor": 5
}
