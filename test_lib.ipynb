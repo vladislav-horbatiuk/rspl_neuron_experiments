{
 "cells": [
  {
   "cell_type": "code",
   "execution_count": 1,
   "id": "28e4625d",
   "metadata": {},
   "outputs": [],
   "source": [
    "import os\n",
    "import sys\n",
    "sys.path.append(os.getcwd())\n",
    "\n",
    "from lib.models.model_execution_support import run_on_inputs_with_targets\n",
    "from lib.models.model_execution_support import run_mod_with_correction_block_on_inputs_with_targets\n",
    "from lib.models.recurrent_forecaster_with_correction_block import RecurrentForecasterWithCorrectionBlock\n",
    "from lib.models.recurrent_sigmoid_piecewise_forecaster import RSPForecaster\n",
    "from lib.models.linear_forecaster import LinearForecaster\n",
    "from lib.utils.recurrent_contexts_manager import RecurrentContextsManager\n",
    "\n",
    "import numpy as np\n",
    "import pandas as pd\n",
    "import torch"
   ]
  },
  {
   "cell_type": "code",
   "execution_count": 2,
   "id": "a204ea8b",
   "metadata": {},
   "outputs": [],
   "source": [
    "DEVICE = 'cpu'\n",
    "DTYPE = torch.float32"
   ]
  },
  {
   "cell_type": "code",
   "execution_count": 3,
   "id": "2604f11b",
   "metadata": {},
   "outputs": [
    {
     "name": "stdout",
     "output_type": "stream",
     "text": [
      "62.0\n",
      "[[ 0.14598108  0.14598108  0.14204635 ...  0.4683017   0.45550151\n",
      "   0.43827048]\n",
      " [ 0.28219521  0.28219521  0.27689336 ...  0.40076932  0.38879281\n",
      "   0.38256881]\n",
      " [-0.30440775 -0.30440775 -0.30484894 ... -0.36155229 -0.35393276\n",
      "  -0.34546305]\n",
      " [-0.32704289 -0.32704289 -0.32704289 ... -0.29516359 -0.26901976\n",
      "  -0.2757001 ]]\n",
      "(4, 891)\n"
     ]
    }
   ],
   "source": [
    "INP_SIZE = 2\n",
    "\n",
    "def sw(t: torch.Tensor) -> torch.Tensor:\n",
    "    return t.unfold(dimension=1, size=INP_SIZE, step=1)\n",
    "\n",
    "\n",
    "def get_train_test_data_heart_rate(heart_data, train_ratio=0.9):\n",
    "    N = heart_data.shape[1]\n",
    "    train_size = int(N * train_ratio)\n",
    "    test_size = N - train_size\n",
    "    train_ts = heart_data[:, :train_size]\n",
    "    test_ts = heart_data[:, train_size:]\n",
    "    return (\n",
    "        sw(torch.from_numpy(train_ts[:, :-1])).permute(1, 0, 2).to(DEVICE, dtype=DTYPE),\n",
    "        torch.from_numpy(train_ts[:, INP_SIZE:]).permute(1, 0).unsqueeze(-1).to(DEVICE, dtype=DTYPE),\n",
    "        sw(torch.from_numpy(test_ts[:, :-1])).permute(1, 0, 2).to(DEVICE, dtype=DTYPE),\n",
    "        torch.from_numpy(test_ts[:, INP_SIZE:]).permute(1, 0).unsqueeze(-1).to(DEVICE, dtype=DTYPE),\n",
    "    )\n",
    "\n",
    "df = pd.read_csv('heart_rate.csv')\n",
    "print(df['T4'][890])\n",
    "heart_data = np.array(df[:891]).transpose(1, 0)\n",
    "heart_data = heart_data / (heart_data.max() - heart_data.min())\n",
    "heart_data = heart_data - heart_data.mean()\n",
    "print(heart_data)\n",
    "print(heart_data.shape)"
   ]
  },
  {
   "cell_type": "code",
   "execution_count": 4,
   "id": "16af5552",
   "metadata": {},
   "outputs": [
    {
     "name": "stdout",
     "output_type": "stream",
     "text": [
      "torch.Size([9, 1])\n",
      "tensor([[ 0.6499],\n",
      "        [-0.0303],\n",
      "        [ 1.1293],\n",
      "        [-0.2971],\n",
      "        [ 0.2109],\n",
      "        [ 0.1549],\n",
      "        [ 0.1807],\n",
      "        [ 0.1886],\n",
      "        [ 0.8036]], grad_fn=<AddmmBackward0>)\n",
      "torch.Size([1, 4])\n"
     ]
    }
   ],
   "source": [
    "inp_len_test = 4\n",
    "num_sequences_test = 9\n",
    "\n",
    "cm = RecurrentContextsManager()\n",
    "pred = LinearForecaster(cm, inp_len_test)\n",
    "inp_test = torch.randn(num_sequences_test, inp_len_test, device=DEVICE, dtype=DTYPE)\n",
    "out_test = pred(inp_test)\n",
    "\n",
    "print(out_test.shape)\n",
    "print(out_test)\n",
    "print(pred.predictor.weight.shape)"
   ]
  },
  {
   "cell_type": "code",
   "execution_count": 5,
   "id": "ffb63eed",
   "metadata": {},
   "outputs": [
    {
     "name": "stdout",
     "output_type": "stream",
     "text": [
      "139690023682752\n",
      "tensor([[0., 0., 0., 0., 0., 0., 0., 0.],\n",
      "        [0., 0., 0., 0., 0., 0., 0., 0.],\n",
      "        [0., 0., 0., 0., 0., 0., 0., 0.],\n",
      "        [0., 0., 0., 0., 0., 0., 0., 0.],\n",
      "        [0., 0., 0., 0., 0., 0., 0., 0.],\n",
      "        [0., 0., 0., 0., 0., 0., 0., 0.],\n",
      "        [0., 0., 0., 0., 0., 0., 0., 0.],\n",
      "        [0., 0., 0., 0., 0., 0., 0., 0.],\n",
      "        [0., 0., 0., 0., 0., 0., 0., 0.]])\n",
      "139690022908448\n",
      "tensor([[ 0.0051,  0.1282, -0.2462, -0.0509, -0.0644, -0.1124, -0.1760, -0.0957],\n",
      "        [ 0.1840, -0.1408,  0.1254, -0.2304,  0.7414, -0.0419,  0.1285, -0.1078],\n",
      "        [-0.0425,  0.1827, -0.6884,  0.0443, -0.2545, -0.1685, -0.3489, -0.1044],\n",
      "        [ 0.0617, -0.0714,  0.0724, -0.2136,  0.3363, -0.1799, -0.0496, -0.0934],\n",
      "        [-0.1412,  0.1159, -0.4529, -0.0650, -0.1943, -0.3191, -0.2947, -0.0764],\n",
      "        [ 0.0326,  0.0877, -0.2067,  0.0112, -0.1403, -0.1450, -0.1900, -0.0833],\n",
      "        [ 0.0995, -0.0226,  0.0861, -0.1714,  0.4567, -0.0547,  0.0775, -0.0970],\n",
      "        [ 0.3987, -0.1803,  0.0278,  0.0239,  0.1412,  0.0360,  0.0018, -0.1312],\n",
      "        [-0.2470,  0.2855, -0.5032, -0.0546, -0.2151, -0.1981, -0.2838, -0.0731]],\n",
      "       grad_fn=<AddBackward0>)\n",
      "139690022909168\n",
      "tensor([[-0.1848,  0.1629, -0.2094, -0.2023, -0.0438, -0.3925, -0.2949, -0.0791],\n",
      "        [ 0.3011, -0.0815, -0.0724, -0.0192,  0.3530, -0.2416, -0.1527, -0.2219],\n",
      "        [ 0.2081,  0.2120, -1.2482,  0.3414, -0.5092, -0.1300, -0.5932, -0.0822],\n",
      "        [ 0.1301, -0.1172,  0.1483, -0.3247,  0.3858, -0.3652, -0.1442, -0.1801],\n",
      "        [ 0.2161, -0.1166, -0.1882, -0.1900,  0.6825, -0.1943,  0.2152, -0.1152],\n",
      "        [ 0.2506, -0.0082, -0.3178,  0.0219, -0.1158, -0.1554, -0.3001, -0.1419],\n",
      "        [-0.1556,  0.0520,  0.2674, -0.4028,  0.4077, -0.3949, -0.0328, -0.1122],\n",
      "        [-0.0629,  0.0128, -0.0716, -0.2033,  0.1239, -0.2442, -0.1649, -0.1549],\n",
      "        [ 0.2591,  0.0430, -0.2800,  0.0422, -0.0211, -0.1449, -0.0170, -0.0769]],\n",
      "       grad_fn=<AddBackward0>)\n",
      "torch.Size([9, 1])\n",
      "tensor([[ 0.1641],\n",
      "        [-0.0321],\n",
      "        [ 0.3093],\n",
      "        [ 0.0106],\n",
      "        [ 0.2074],\n",
      "        [ 0.1880],\n",
      "        [ 0.0117],\n",
      "        [ 0.1738],\n",
      "        [ 0.1995]], grad_fn=<AddmmBackward0>)\n",
      "torch.Size([9, 1])\n",
      "torch.Size([8, 12])\n"
     ]
    }
   ],
   "source": [
    "inp_len_test = 4\n",
    "hidden_size_test = 8\n",
    "num_sequences_test = 9\n",
    "\n",
    "cm = RecurrentContextsManager()\n",
    "pred = RSPForecaster(cm, inp_len_test, hidden_size_test)\n",
    "pred.init_context(num_sequences_test, device=DEVICE)\n",
    "print(id(cm.get_ctx(pred.cid)))\n",
    "print(cm.get_ctx(pred.cid))\n",
    "inp1_test = torch.randn(num_sequences_test, inp_len_test, device=DEVICE, dtype=DTYPE)\n",
    "prev_errors1_test = torch.randn(num_sequences_test, 1, device=DEVICE, dtype=DTYPE) * 0.1\n",
    "out1_test = pred(inp_test)\n",
    "print(id(cm.get_ctx(pred.cid)))\n",
    "print(cm.get_ctx(pred.cid))\n",
    "gt1_test = out_test + torch.randn(num_sequences_test, 1, device=DEVICE, dtype=DTYPE) * 0.1\n",
    "inp2_test = torch.randn(num_sequences_test, inp_len_test, device=DEVICE, dtype=DTYPE)\n",
    "out2_test = pred(inp2_test)\n",
    "print(id(cm.get_ctx(pred.cid)))\n",
    "print(cm.get_ctx(pred.cid))\n",
    "\n",
    "\n",
    "print(out1_test.shape)\n",
    "print(out1_test)\n",
    "print(out2_test.shape)\n",
    "print(pred.sigm_lin.weight.shape)"
   ]
  },
  {
   "cell_type": "code",
   "execution_count": 6,
   "id": "911e7799",
   "metadata": {},
   "outputs": [
    {
     "name": "stdout",
     "output_type": "stream",
     "text": [
      "torch.Size([799, 4, 2])\n",
      "torch.Size([799, 4, 1])\n",
      "torch.Size([88, 4, 2])\n",
      "torch.Size([88, 4, 1])\n",
      "torch.Size([799, 4, 1])\n",
      "torch.Size([88, 4, 1])\n"
     ]
    }
   ],
   "source": [
    "train_inp, train_targ, test_inp, test_targ = get_train_test_data_heart_rate(heart_data)\n",
    "print(train_inp.shape)\n",
    "print(train_targ.shape)\n",
    "print(test_inp.shape)\n",
    "print(test_targ.shape)\n",
    "\n",
    "HIDDEN_SIZE = 8\n",
    "cm = RecurrentContextsManager()\n",
    "pred = RSPForecaster(cm, INP_SIZE, HIDDEN_SIZE)\n",
    "outs_train = run_on_inputs_with_targets(pred, train_inp, train_targ)\n",
    "print(outs_train.shape)\n",
    "outs_test = run_on_inputs_with_targets(pred, test_inp, test_targ)\n",
    "print(outs_test.shape)"
   ]
  },
  {
   "cell_type": "code",
   "execution_count": 7,
   "id": "af02c5d6",
   "metadata": {},
   "outputs": [
    {
     "name": "stdout",
     "output_type": "stream",
     "text": [
      "torch.Size([799, 4, 1])\n",
      "torch.Size([88, 4, 1])\n"
     ]
    }
   ],
   "source": [
    "cm = RecurrentContextsManager()\n",
    "baseline = LinearForecaster(cm, INP_SIZE)\n",
    "# INP_SIZE + 3 because correction block also takes baseline\n",
    "# forecast, previous baseline error and previous actual\n",
    "# error as extra inputs\n",
    "corrector = RSPForecaster(cm, INP_SIZE + 3, HIDDEN_SIZE)\n",
    "pred = RecurrentForecasterWithCorrectionBlock(cm, baseline, corrector)\n",
    "outs_train = run_mod_with_correction_block_on_inputs_with_targets(pred, train_inp, train_targ)\n",
    "print(outs_train.shape)\n",
    "outs_test = run_mod_with_correction_block_on_inputs_with_targets(pred, test_inp, test_targ)\n",
    "print(outs_test.shape)"
   ]
  },
  {
   "cell_type": "code",
   "execution_count": null,
   "id": "f8675fdb",
   "metadata": {},
   "outputs": [],
   "source": []
  }
 ],
 "metadata": {
  "kernelspec": {
   "display_name": "Python 3 (ipykernel)",
   "language": "python",
   "name": "python3"
  },
  "language_info": {
   "codemirror_mode": {
    "name": "ipython",
    "version": 3
   },
   "file_extension": ".py",
   "mimetype": "text/x-python",
   "name": "python",
   "nbconvert_exporter": "python",
   "pygments_lexer": "ipython3",
   "version": "3.8.16"
  }
 },
 "nbformat": 4,
 "nbformat_minor": 5
}
