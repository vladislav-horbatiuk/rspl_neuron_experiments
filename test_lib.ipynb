{
 "cells": [
  {
   "cell_type": "code",
   "execution_count": 9,
   "id": "28e4625d",
   "metadata": {},
   "outputs": [],
   "source": [
    "import os\n",
    "import sys\n",
    "sys.path.append(os.getcwd())\n",
    "\n",
    "from lib.models.model_execution_support import run_on_inputs_with_targets\n",
    "from lib.models.recurrent_forecaster_with_correction_block import RecurrentForecasterWithCorrectionBlock\n",
    "from lib.models.recurrent_sigmoid_piecewise_forecaster import RSPForecaster\n",
    "from lib.models.linear_forecaster import LinearForecaster\n",
    "from lib.utils.recurrent_contexts_manager import RecurrentContextsManager\n",
    "\n",
    "import numpy as np\n",
    "import pandas as pd\n",
    "import torch"
   ]
  },
  {
   "cell_type": "code",
   "execution_count": 10,
   "id": "a204ea8b",
   "metadata": {},
   "outputs": [],
   "source": [
    "DEVICE = 'cpu'\n",
    "DTYPE = torch.float32"
   ]
  },
  {
   "cell_type": "code",
   "execution_count": 11,
   "id": "2604f11b",
   "metadata": {},
   "outputs": [
    {
     "name": "stdout",
     "output_type": "stream",
     "text": [
      "62.0\n",
      "[[ 0.14598108  0.14598108  0.14204635 ...  0.4683017   0.45550151\n",
      "   0.43827048]\n",
      " [ 0.28219521  0.28219521  0.27689336 ...  0.40076932  0.38879281\n",
      "   0.38256881]\n",
      " [-0.30440775 -0.30440775 -0.30484894 ... -0.36155229 -0.35393276\n",
      "  -0.34546305]\n",
      " [-0.32704289 -0.32704289 -0.32704289 ... -0.29516359 -0.26901976\n",
      "  -0.2757001 ]]\n",
      "(4, 891)\n"
     ]
    }
   ],
   "source": [
    "INP_SIZE = 2\n",
    "\n",
    "def sw(t: torch.Tensor) -> torch.Tensor:\n",
    "    return t.unfold(dimension=1, size=INP_SIZE, step=1)\n",
    "\n",
    "\n",
    "def get_train_test_data_heart_rate(heart_data, train_ratio=0.9):\n",
    "    N = heart_data.shape[1]\n",
    "    train_size = int(N * train_ratio)\n",
    "    test_size = N - train_size\n",
    "    train_ts = heart_data[:, :train_size]\n",
    "    test_ts = heart_data[:, train_size:]\n",
    "    return (\n",
    "        sw(torch.from_numpy(train_ts[:, :-1])).permute(1, 0, 2).to(DEVICE, dtype=DTYPE),\n",
    "        torch.from_numpy(train_ts[:, INP_SIZE:]).permute(1, 0).unsqueeze(-1).to(DEVICE, dtype=DTYPE),\n",
    "        sw(torch.from_numpy(test_ts[:, :-1])).permute(1, 0, 2).to(DEVICE, dtype=DTYPE),\n",
    "        torch.from_numpy(test_ts[:, INP_SIZE:]).permute(1, 0).unsqueeze(-1).to(DEVICE, dtype=DTYPE),\n",
    "    )\n",
    "\n",
    "df = pd.read_csv('heart_rate.csv')\n",
    "print(df['T4'][890])\n",
    "heart_data = np.array(df[:891]).transpose(1, 0)\n",
    "heart_data = heart_data / (heart_data.max() - heart_data.min())\n",
    "heart_data = heart_data - heart_data.mean()\n",
    "print(heart_data)\n",
    "print(heart_data.shape)"
   ]
  },
  {
   "cell_type": "code",
   "execution_count": 12,
   "id": "16af5552",
   "metadata": {},
   "outputs": [
    {
     "name": "stdout",
     "output_type": "stream",
     "text": [
      "torch.Size([9, 1])\n",
      "tensor([[-0.4120],\n",
      "        [-0.2318],\n",
      "        [-1.3439],\n",
      "        [ 0.4606],\n",
      "        [ 0.1840],\n",
      "        [ 0.0421],\n",
      "        [-1.0510],\n",
      "        [-0.3369],\n",
      "        [-0.8988]], grad_fn=<AddmmBackward0>)\n",
      "torch.Size([1, 4])\n"
     ]
    }
   ],
   "source": [
    "inp_len_test = 4\n",
    "num_sequences_test = 9\n",
    "\n",
    "cm = RecurrentContextsManager()\n",
    "pred = LinearForecaster(cm, inp_len_test)\n",
    "inp_test = torch.randn(num_sequences_test, inp_len_test, device=DEVICE, dtype=DTYPE)\n",
    "out_test = pred(inp_test)\n",
    "\n",
    "print(out_test.shape)\n",
    "print(out_test)\n",
    "print(pred.predictor.weight.shape)"
   ]
  },
  {
   "cell_type": "code",
   "execution_count": 13,
   "id": "ffb63eed",
   "metadata": {},
   "outputs": [
    {
     "name": "stdout",
     "output_type": "stream",
     "text": [
      "140596390500768\n",
      "tensor([[0., 0., 0., 0., 0., 0., 0., 0.],\n",
      "        [0., 0., 0., 0., 0., 0., 0., 0.],\n",
      "        [0., 0., 0., 0., 0., 0., 0., 0.],\n",
      "        [0., 0., 0., 0., 0., 0., 0., 0.],\n",
      "        [0., 0., 0., 0., 0., 0., 0., 0.],\n",
      "        [0., 0., 0., 0., 0., 0., 0., 0.],\n",
      "        [0., 0., 0., 0., 0., 0., 0., 0.],\n",
      "        [0., 0., 0., 0., 0., 0., 0., 0.],\n",
      "        [0., 0., 0., 0., 0., 0., 0., 0.]])\n",
      "140596390501408\n",
      "tensor([[ 0.1868, -0.0320, -0.0754,  0.1354, -0.1697, -0.3425, -0.0638,  0.2685],\n",
      "        [-0.1069,  0.1050, -0.0600,  0.1264, -0.0423, -0.1018, -0.0298, -0.3884],\n",
      "        [ 0.1357, -0.0610, -0.2064, -0.3602, -0.4359, -0.2641,  0.0804,  0.1818],\n",
      "        [-0.1723, -0.0965, -0.0934,  0.2215,  0.0163, -0.0601, -0.1832,  0.1693],\n",
      "        [-0.4683,  0.0618, -0.2801, -0.4052, -0.2494,  0.0814, -0.3511, -0.1412],\n",
      "        [-0.3014, -0.0258, -0.2801, -0.3644, -0.2529, -0.0344, -0.3891,  0.1943],\n",
      "        [ 0.1569, -0.0843, -0.0917,  0.0697, -0.2056, -0.3062,  0.1790,  0.0909],\n",
      "        [-0.2233,  0.0197, -0.2492, -0.3667, -0.3183, -0.0444, -0.2469,  0.0093],\n",
      "        [-0.0199,  0.0057, -0.1442, -0.1321, -0.2646, -0.1345,  0.0437, -0.1339]],\n",
      "       grad_fn=<AddBackward0>)\n",
      "140596390507360\n",
      "tensor([[ 2.2598e-01, -8.1641e-02, -1.1605e-01,  1.9874e-01, -2.3885e-01,\n",
      "         -2.9998e-01,  1.5944e-01,  3.1645e-01],\n",
      "        [-3.2507e-01, -4.0827e-02, -1.9379e-01,  1.1057e-01, -1.3443e-01,\n",
      "         -6.2551e-02, -8.3920e-02, -2.2594e-01],\n",
      "        [ 2.6608e-02,  2.0396e-01, -1.4446e-01, -8.0061e-02, -2.2925e-01,\n",
      "         -6.8790e-02,  1.3148e-01, -3.9460e-01],\n",
      "        [ 4.4403e-02, -1.6844e-01, -1.1534e-01,  3.2822e-01, -6.9959e-02,\n",
      "         -3.4423e-01, -4.2512e-02,  1.4044e-01],\n",
      "        [-2.1796e-01,  2.5897e-02, -2.5446e-01,  7.4029e-02, -2.4373e-01,\n",
      "         -2.4242e-01, -2.2276e-01, -2.5005e-01],\n",
      "        [-8.0405e-02,  8.0701e-02, -3.1368e-01, -1.3125e-01, -4.1199e-01,\n",
      "         -2.3892e-01, -3.7827e-01,  5.8103e-03],\n",
      "        [-6.7249e-04,  7.8795e-02, -9.8977e-02,  1.0263e-01, -1.8673e-01,\n",
      "         -6.9587e-02,  1.8485e-01, -2.6925e-01],\n",
      "        [-5.2194e-01,  9.2831e-03, -4.7284e-01, -3.9778e-01, -4.5306e-01,\n",
      "          6.1210e-04, -6.6373e-01,  3.0170e-01],\n",
      "        [-1.3221e-01, -1.6817e-02, -3.1626e-01, -3.1665e-01, -4.8030e-01,\n",
      "         -1.1327e-01, -4.2008e-02,  1.1729e-01]], grad_fn=<AddBackward0>)\n",
      "torch.Size([9, 1])\n",
      "tensor([[ 0.1555],\n",
      "        [ 0.0582],\n",
      "        [ 0.2965],\n",
      "        [-0.0087],\n",
      "        [ 0.0752],\n",
      "        [ 0.1017],\n",
      "        [ 0.1861],\n",
      "        [ 0.1503],\n",
      "        [ 0.1750]], grad_fn=<AddmmBackward0>)\n",
      "torch.Size([9, 1])\n",
      "torch.Size([8, 13])\n"
     ]
    }
   ],
   "source": [
    "inp_len_test = 4\n",
    "hidden_size_test = 8\n",
    "num_sequences_test = 9\n",
    "\n",
    "cm = RecurrentContextsManager()\n",
    "pred = RSPForecaster(cm, inp_len_test, hidden_size_test)\n",
    "pred.init_context(num_sequences_test, device=DEVICE)\n",
    "print(id(cm.get_ctx(pred.cid)))\n",
    "print(cm.get_ctx(pred.cid))\n",
    "inp1_test = torch.randn(num_sequences_test, inp_len_test, device=DEVICE, dtype=DTYPE)\n",
    "prev_errors1_test = torch.randn(num_sequences_test, 1, device=DEVICE, dtype=DTYPE) * 0.1\n",
    "out1_test = pred(inp_test, prev_errors1_test)\n",
    "print(id(cm.get_ctx(pred.cid)))\n",
    "print(cm.get_ctx(pred.cid))\n",
    "gt1_test = out_test + torch.randn(num_sequences_test, 1, device=DEVICE, dtype=DTYPE) * 0.1\n",
    "inp2_test = torch.randn(num_sequences_test, inp_len_test, device=DEVICE, dtype=DTYPE)\n",
    "prev_errors2_test = gt1_test - out1_test\n",
    "out2_test = pred(inp2_test, prev_errors2_test)\n",
    "print(id(cm.get_ctx(pred.cid)))\n",
    "print(cm.get_ctx(pred.cid))\n",
    "\n",
    "\n",
    "print(out1_test.shape)\n",
    "print(out1_test)\n",
    "print(out2_test.shape)\n",
    "print(pred.sigm_lin.weight.shape)"
   ]
  },
  {
   "cell_type": "code",
   "execution_count": 14,
   "id": "911e7799",
   "metadata": {},
   "outputs": [
    {
     "name": "stdout",
     "output_type": "stream",
     "text": [
      "torch.Size([799, 4, 2])\n",
      "torch.Size([799, 4, 1])\n",
      "torch.Size([88, 4, 2])\n",
      "torch.Size([88, 4, 1])\n",
      "torch.Size([799, 4, 1])\n",
      "torch.Size([88, 4, 1])\n"
     ]
    }
   ],
   "source": [
    "train_inp, train_targ, test_inp, test_targ = get_train_test_data_heart_rate(heart_data)\n",
    "print(train_inp.shape)\n",
    "print(train_targ.shape)\n",
    "print(test_inp.shape)\n",
    "print(test_targ.shape)\n",
    "\n",
    "HIDDEN_SIZE = 8\n",
    "cm = RecurrentContextsManager()\n",
    "pred = RSPForecaster(cm, INP_SIZE, HIDDEN_SIZE)\n",
    "outs_train = run_on_inputs_with_targets(pred, train_inp, train_targ)\n",
    "print(outs_train.shape)\n",
    "outs_test = run_on_inputs_with_targets(pred, test_inp, test_targ)\n",
    "print(outs_test.shape)"
   ]
  },
  {
   "cell_type": "code",
   "execution_count": 15,
   "id": "af02c5d6",
   "metadata": {},
   "outputs": [
    {
     "name": "stdout",
     "output_type": "stream",
     "text": [
      "torch.Size([799, 4, 1])\n",
      "torch.Size([88, 4, 1])\n"
     ]
    }
   ],
   "source": [
    "cm = RecurrentContextsManager()\n",
    "baseline = LinearForecaster(cm, INP_SIZE)\n",
    "# INP_SIZE + 1 because correction block also takes baseline\n",
    "# forecast as extra input\n",
    "corrector = RSPForecaster(cm, INP_SIZE + 1, HIDDEN_SIZE)\n",
    "pred = RecurrentForecasterWithCorrectionBlock(cm, baseline, corrector)\n",
    "outs_train = run_on_inputs_with_targets(pred, train_inp, train_targ)\n",
    "print(outs_train.shape)\n",
    "outs_test = run_on_inputs_with_targets(pred, test_inp, test_targ)\n",
    "print(outs_test.shape)"
   ]
  },
  {
   "cell_type": "code",
   "execution_count": null,
   "id": "f8675fdb",
   "metadata": {},
   "outputs": [],
   "source": []
  }
 ],
 "metadata": {
  "kernelspec": {
   "display_name": "Python 3 (ipykernel)",
   "language": "python",
   "name": "python3"
  },
  "language_info": {
   "codemirror_mode": {
    "name": "ipython",
    "version": 3
   },
   "file_extension": ".py",
   "mimetype": "text/x-python",
   "name": "python",
   "nbconvert_exporter": "python",
   "pygments_lexer": "ipython3",
   "version": "3.8.16"
  }
 },
 "nbformat": 4,
 "nbformat_minor": 5
}
